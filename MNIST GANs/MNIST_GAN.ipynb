{
 "cells": [
  {
   "cell_type": "code",
   "execution_count": 1,
   "id": "ae25be94",
   "metadata": {},
   "outputs": [],
   "source": [
    "import numpy as np\n",
    "import matplotlib.pyplot as plt\n",
    "import torch\n",
    "import torch.nn.functional as F\n",
    "from torch import nn, optim\n",
    "from torch.utils.data import DataLoader\n",
    "from torchvision import datasets, transforms"
   ]
  },
  {
   "cell_type": "code",
   "execution_count": 5,
   "id": "42aa7282",
   "metadata": {},
   "outputs": [],
   "source": [
    "#defining the batch_size\n",
    "batch_size = 64\n",
    "#Defining the transforms for the data\n",
    "transform = transforms.ToTensor()\n",
    "\n",
    "#Getting the data\n",
    "train_data = datasets.MNIST(\n",
    "    'data',\n",
    "    download=True,\n",
    "    train = True,\n",
    "    transform = transform\n",
    "    )\n",
    "\n",
    "#Preparing the dataloader\n",
    "train_loader = DataLoader(\n",
    "    train_data,\n",
    "    batch_size=batch_size,\n",
    "    num_workers=0\n",
    "    )"
   ]
  },
  {
   "cell_type": "code",
   "execution_count": 6,
   "id": "55862001",
   "metadata": {},
   "outputs": [
    {
     "data": {
      "image/png": "[encoded data removed]",
      "text/plain": [
       "<Figure size 216x216 with 1 Axes>"
      ]
     },
     "metadata": {
      "needs_background": "light"
     },
     "output_type": "display_data"
    }
   ],
   "source": [
    "dataiter = iter(train_loader)\n",
    "images, labels = dataiter.next()\n",
    "images = images.numpy()\n",
    "\n",
    "i = 7\n",
    "img=np.squeeze(images[i])\n",
    "\n",
    "fig = plt.figure(figsize=(3,3))\n",
    "ax = fig.add_subplot(111)\n",
    "ax.imshow(img,cmap='gray')\n",
    "ax.set_title(labels[i])\n",
    "plt.show()\n",
    "\n"
   ]
  },
  {
   "cell_type": "markdown",
   "id": "874be436",
   "metadata": {},
   "source": [
    "### The model\n"
   ]
  },
  {
   "cell_type": "code",
   "execution_count": 7,
   "id": "ebd6e528",
   "metadata": {},
   "outputs": [],
   "source": [
    "class Discriminator(nn.Module):\n",
    "    def __init__(self,input_size,hidden_dim, output_size):\n",
    "        super().__init__()\n",
    "\n",
    "        self.fc1 = nn.Linear(input_size,hidden_dim*4)\n",
    "        self.fc2 = nn.Linear(hidden_dim*4,hidden_dim*2)\n",
    "        self.fc3 = nn.Linear(hidden_dim*2,hidden_dim)\n",
    "        self.fc4 = nn.Linear(hidden_dim,output_size)\n",
    "\n",
    "        self.dropout = nn.Dropout(0.3)\n",
    "\n",
    "    def forward(self,x):\n",
    "        \n",
    "        x = x.view(-1,28*28)\n",
    "\n",
    "        x = F.leaky_relu(self.fc1(x), 0.2)\n",
    "        x = self.dropout(x)\n",
    "        x = F.leaky_relu(self.fc2(x), 0.2)\n",
    "        x = self.dropout(x)\n",
    "        x = F.leaky_relu(self.fc3(x), 0.2)\n",
    "        x = self.dropout(x)\n",
    "        out = self.fc4(x)\n",
    "        return out"
   ]
  },
  {
   "cell_type": "code",
   "execution_count": 8,
   "id": "65fa389e",
   "metadata": {},
   "outputs": [],
   "source": [
    "class Generator(nn.Module):\n",
    "    def __init__(self,input_size,hidden_dim, output_size):\n",
    "        super().__init__()\n",
    "        \n",
    "        self.fc1 = nn.Linear(input_size,hidden_dim)\n",
    "        self.fc2 = nn.Linear(hidden_dim,hidden_dim*2)\n",
    "        self.fc3 = nn.Linear(hidden_dim*2,hidden_dim*4)\n",
    "        self.fc4 = nn.Linear(hidden_dim*4,output_size)\n",
    "\n",
    "        self.dropout = nn.Dropout(0.4)\n",
    "\n",
    "    def forward(self,x):\n",
    "\n",
    "        x = F.leaky_relu(self.fc1(x), 0.2)\n",
    "        x = self.dropout(x)\n",
    "        x = F.leaky_relu(self.fc2(x), 0.2)\n",
    "        x = self.dropout(x)\n",
    "        x = F.leaky_relu(self.fc3(x), 0.2)\n",
    "        x = self.dropout(x)\n",
    "        out = torch.tanh(self.fc4(x))\n",
    "        return out"
   ]
  },
  {
   "cell_type": "code",
   "execution_count": 9,
   "id": "387bb7ec",
   "metadata": {},
   "outputs": [],
   "source": [
    "# Defining the Hyperparameters.\n",
    "\n",
    "#Discriminator Hyperparameters\n",
    "d_input_size = 784\n",
    "d_output_size = 1\n",
    "d_hidden_dim = 32\n",
    "\n",
    "#Generator Hyperparameters\n",
    "g_input = 100\n",
    "g_output = 784\n",
    "g_hidden_dim  = 64\n"
   ]
  },
  {
   "cell_type": "code",
   "execution_count": 14,
   "id": "246c3fab",
   "metadata": {},
   "outputs": [
    {
     "name": "stdout",
     "output_type": "stream",
     "text": [
      "Discriminator(\n",
      "  (fc1): Linear(in_features=784, out_features=128, bias=True)\n",
      "  (fc2): Linear(in_features=128, out_features=64, bias=True)\n",
      "  (fc3): Linear(in_features=64, out_features=32, bias=True)\n",
      "  (fc4): Linear(in_features=32, out_features=1, bias=True)\n",
      "  (dropout): Dropout(p=0.3, inplace=False)\n",
      ")\n",
      "\n",
      "Generator(\n",
      "  (fc1): Linear(in_features=100, out_features=64, bias=True)\n",
      "  (fc2): Linear(in_features=64, out_features=128, bias=True)\n",
      "  (fc3): Linear(in_features=128, out_features=256, bias=True)\n",
      "  (fc4): Linear(in_features=256, out_features=784, bias=True)\n",
      "  (dropout): Dropout(p=0.4, inplace=False)\n",
      ")\n"
     ]
    }
   ],
   "source": [
    "disc = Discriminator(d_input_size,d_hidden_dim,d_output_size).cuda()\n",
    "gen = Generator(g_input,g_hidden_dim,g_output).cuda()\n",
    "\n",
    "print(disc)\n",
    "print()\n",
    "print(gen)"
   ]
  },
  {
   "cell_type": "code",
   "execution_count": 18,
   "id": "02296896",
   "metadata": {},
   "outputs": [],
   "source": [
    "#Loss Functions\n",
    "def real_loss(d_out,smooth = False):\n",
    "    size = d_out.size(0)\n",
    "\n",
    "    if smooth:\n",
    "        labels = torch.ones(size)*0.9\n",
    "    else:\n",
    "        labels = torch.ones(size) \n",
    "\n",
    "    labels=labels.cuda()\n",
    "    criterion = nn.BCEWithLogitsLoss()\n",
    "    loss = criterion(d_out.squeeze(),labels)\n",
    "    return loss\n",
    "\n",
    "def fake_loss (d_out):\n",
    "    labels = torch.zeros(d_out.shape[0])\n",
    "    criterion = nn.BCEWithLogitsLoss()\n",
    "    labels=labels.cuda()\n",
    "    loss = criterion(d_out.squeeze(),labels)\n",
    "\n",
    "    return loss\n"
   ]
  },
  {
   "cell_type": "code",
   "execution_count": 19,
   "id": "44ef3f88",
   "metadata": {},
   "outputs": [],
   "source": [
    "#Defining the Optimizers\n",
    "lr = 0.002\n",
    "d_optimizer = optim.Adam(disc.parameters(),lr)\n",
    "g_optimizer = optim.Adam(gen.parameters(), lr)"
   ]
  },
  {
   "cell_type": "markdown",
   "id": "4b79e98f",
   "metadata": {},
   "source": [
    "## Training the 2 models.\n",
    "\n",
    "1. First, we need to train the Discriminator model, To do that, \n",
    "    * We first need to train the discriminator on the real images\n",
    "    * Generate Fake images\n",
    "    * Train the model on fake images with labels = 0\n",
    "    * Add the real and fake losses\n",
    "    * Perform Back propagation\n",
    "<br>\n",
    "\n",
    "2. With the trained model in our hand, it is now time to train the Generator model.\n",
    "    *  We generate the fake images\n",
    "    * Compute the discriminator loss with the labels = 1\n",
    "    * back_propagation\n"
   ]
  },
  {
   "cell_type": "code",
   "execution_count": 21,
   "id": "3438e54a",
   "metadata": {},
   "outputs": [
    {
     "name": "stdout",
     "output_type": "stream",
     "text": [
      "Epoch 1/100 | Discriminator loss:1.0927| generator_loss:1.0883\n",
      "Epoch 1/100 | Discriminator loss:1.0874| generator_loss:1.0715\n",
      "Epoch 2/100 | Discriminator loss:1.0980| generator_loss:1.1025\n",
      "Epoch 2/100 | Discriminator loss:1.0891| generator_loss:1.1022\n",
      "Epoch 3/100 | Discriminator loss:1.0784| generator_loss:1.1079\n"
     ]
    },
    {
     "ename": "KeyboardInterrupt",
     "evalue": "",
     "output_type": "error",
     "traceback": [
      "\u001b[1;31m---------------------------------------------------------------------------\u001b[0m",
      "\u001b[1;31mKeyboardInterrupt\u001b[0m                         Traceback (most recent call last)",
      "\u001b[1;32mw:\\The Actual Work\\Repo\\GitHub Repositories\\Generative-Adversarial-Networks-using-PyTorch\\MNIST GANs\\MNIST_GAN.ipynb Cell 12'\u001b[0m in \u001b[0;36m<cell line: 15>\u001b[1;34m()\u001b[0m\n\u001b[0;32m     <a href='vscode-notebook-cell:/w%3A/The%20Actual%20Work/Repo/GitHub%20Repositories/Generative-Adversarial-Networks-using-PyTorch/MNIST%20GANs/MNIST_GAN.ipynb#ch0000011?line=30'>31</a>\u001b[0m     fake_images \u001b[39m=\u001b[39m fake_images\u001b[39m.\u001b[39mcuda()\n\u001b[0;32m     <a href='vscode-notebook-cell:/w%3A/The%20Actual%20Work/Repo/GitHub%20Repositories/Generative-Adversarial-Networks-using-PyTorch/MNIST%20GANs/MNIST_GAN.ipynb#ch0000011?line=32'>33</a>\u001b[0m \u001b[39m# Generating the Real and Fake losses\u001b[39;00m\n\u001b[1;32m---> <a href='vscode-notebook-cell:/w%3A/The%20Actual%20Work/Repo/GitHub%20Repositories/Generative-Adversarial-Networks-using-PyTorch/MNIST%20GANs/MNIST_GAN.ipynb#ch0000011?line=33'>34</a>\u001b[0m     d_real \u001b[39m=\u001b[39m disc(real_images)\n\u001b[0;32m     <a href='vscode-notebook-cell:/w%3A/The%20Actual%20Work/Repo/GitHub%20Repositories/Generative-Adversarial-Networks-using-PyTorch/MNIST%20GANs/MNIST_GAN.ipynb#ch0000011?line=34'>35</a>\u001b[0m     d_fake \u001b[39m=\u001b[39m disc(fake_images)\n\u001b[0;32m     <a href='vscode-notebook-cell:/w%3A/The%20Actual%20Work/Repo/GitHub%20Repositories/Generative-Adversarial-Networks-using-PyTorch/MNIST%20GANs/MNIST_GAN.ipynb#ch0000011?line=36'>37</a>\u001b[0m     r_loss \u001b[39m=\u001b[39m real_loss(d_real\u001b[39m.\u001b[39msqueeze(),smooth\u001b[39m=\u001b[39m\u001b[39mTrue\u001b[39;00m)\n",
      "File \u001b[1;32m~\\anaconda3\\envs\\data\\lib\\site-packages\\torch\\nn\\modules\\module.py:1110\u001b[0m, in \u001b[0;36mModule._call_impl\u001b[1;34m(self, *input, **kwargs)\u001b[0m\n\u001b[0;32m   <a href='file:///c%3A/Users/akhil/anaconda3/envs/data/lib/site-packages/torch/nn/modules/module.py?line=1105'>1106</a>\u001b[0m \u001b[39m# If we don't have any hooks, we want to skip the rest of the logic in\u001b[39;00m\n\u001b[0;32m   <a href='file:///c%3A/Users/akhil/anaconda3/envs/data/lib/site-packages/torch/nn/modules/module.py?line=1106'>1107</a>\u001b[0m \u001b[39m# this function, and just call forward.\u001b[39;00m\n\u001b[0;32m   <a href='file:///c%3A/Users/akhil/anaconda3/envs/data/lib/site-packages/torch/nn/modules/module.py?line=1107'>1108</a>\u001b[0m \u001b[39mif\u001b[39;00m \u001b[39mnot\u001b[39;00m (\u001b[39mself\u001b[39m\u001b[39m.\u001b[39m_backward_hooks \u001b[39mor\u001b[39;00m \u001b[39mself\u001b[39m\u001b[39m.\u001b[39m_forward_hooks \u001b[39mor\u001b[39;00m \u001b[39mself\u001b[39m\u001b[39m.\u001b[39m_forward_pre_hooks \u001b[39mor\u001b[39;00m _global_backward_hooks\n\u001b[0;32m   <a href='file:///c%3A/Users/akhil/anaconda3/envs/data/lib/site-packages/torch/nn/modules/module.py?line=1108'>1109</a>\u001b[0m         \u001b[39mor\u001b[39;00m _global_forward_hooks \u001b[39mor\u001b[39;00m _global_forward_pre_hooks):\n\u001b[1;32m-> <a href='file:///c%3A/Users/akhil/anaconda3/envs/data/lib/site-packages/torch/nn/modules/module.py?line=1109'>1110</a>\u001b[0m     \u001b[39mreturn\u001b[39;00m forward_call(\u001b[39m*\u001b[39m\u001b[39minput\u001b[39m, \u001b[39m*\u001b[39m\u001b[39m*\u001b[39mkwargs)\n\u001b[0;32m   <a href='file:///c%3A/Users/akhil/anaconda3/envs/data/lib/site-packages/torch/nn/modules/module.py?line=1110'>1111</a>\u001b[0m \u001b[39m# Do not call functions when jit is used\u001b[39;00m\n\u001b[0;32m   <a href='file:///c%3A/Users/akhil/anaconda3/envs/data/lib/site-packages/torch/nn/modules/module.py?line=1111'>1112</a>\u001b[0m full_backward_hooks, non_full_backward_hooks \u001b[39m=\u001b[39m [], []\n",
      "\u001b[1;32mw:\\The Actual Work\\Repo\\GitHub Repositories\\Generative-Adversarial-Networks-using-PyTorch\\MNIST GANs\\MNIST_GAN.ipynb Cell 5'\u001b[0m in \u001b[0;36mDiscriminator.forward\u001b[1;34m(self, x)\u001b[0m\n\u001b[0;32m     <a href='vscode-notebook-cell:/w%3A/The%20Actual%20Work/Repo/GitHub%20Repositories/Generative-Adversarial-Networks-using-PyTorch/MNIST%20GANs/MNIST_GAN.ipynb#ch0000004?line=13'>14</a>\u001b[0m x \u001b[39m=\u001b[39m x\u001b[39m.\u001b[39mview(\u001b[39m-\u001b[39m\u001b[39m1\u001b[39m,\u001b[39m28\u001b[39m\u001b[39m*\u001b[39m\u001b[39m28\u001b[39m)\n\u001b[0;32m     <a href='vscode-notebook-cell:/w%3A/The%20Actual%20Work/Repo/GitHub%20Repositories/Generative-Adversarial-Networks-using-PyTorch/MNIST%20GANs/MNIST_GAN.ipynb#ch0000004?line=15'>16</a>\u001b[0m x \u001b[39m=\u001b[39m F\u001b[39m.\u001b[39mleaky_relu(\u001b[39mself\u001b[39m\u001b[39m.\u001b[39mfc1(x), \u001b[39m0.2\u001b[39m)\n\u001b[1;32m---> <a href='vscode-notebook-cell:/w%3A/The%20Actual%20Work/Repo/GitHub%20Repositories/Generative-Adversarial-Networks-using-PyTorch/MNIST%20GANs/MNIST_GAN.ipynb#ch0000004?line=16'>17</a>\u001b[0m x \u001b[39m=\u001b[39m \u001b[39mself\u001b[39;49m\u001b[39m.\u001b[39;49mdropout(x)\n\u001b[0;32m     <a href='vscode-notebook-cell:/w%3A/The%20Actual%20Work/Repo/GitHub%20Repositories/Generative-Adversarial-Networks-using-PyTorch/MNIST%20GANs/MNIST_GAN.ipynb#ch0000004?line=17'>18</a>\u001b[0m x \u001b[39m=\u001b[39m F\u001b[39m.\u001b[39mleaky_relu(\u001b[39mself\u001b[39m\u001b[39m.\u001b[39mfc2(x), \u001b[39m0.2\u001b[39m)\n\u001b[0;32m     <a href='vscode-notebook-cell:/w%3A/The%20Actual%20Work/Repo/GitHub%20Repositories/Generative-Adversarial-Networks-using-PyTorch/MNIST%20GANs/MNIST_GAN.ipynb#ch0000004?line=18'>19</a>\u001b[0m x \u001b[39m=\u001b[39m \u001b[39mself\u001b[39m\u001b[39m.\u001b[39mdropout(x)\n",
      "File \u001b[1;32m~\\anaconda3\\envs\\data\\lib\\site-packages\\torch\\nn\\modules\\module.py:1110\u001b[0m, in \u001b[0;36mModule._call_impl\u001b[1;34m(self, *input, **kwargs)\u001b[0m\n\u001b[0;32m   <a href='file:///c%3A/Users/akhil/anaconda3/envs/data/lib/site-packages/torch/nn/modules/module.py?line=1105'>1106</a>\u001b[0m \u001b[39m# If we don't have any hooks, we want to skip the rest of the logic in\u001b[39;00m\n\u001b[0;32m   <a href='file:///c%3A/Users/akhil/anaconda3/envs/data/lib/site-packages/torch/nn/modules/module.py?line=1106'>1107</a>\u001b[0m \u001b[39m# this function, and just call forward.\u001b[39;00m\n\u001b[0;32m   <a href='file:///c%3A/Users/akhil/anaconda3/envs/data/lib/site-packages/torch/nn/modules/module.py?line=1107'>1108</a>\u001b[0m \u001b[39mif\u001b[39;00m \u001b[39mnot\u001b[39;00m (\u001b[39mself\u001b[39m\u001b[39m.\u001b[39m_backward_hooks \u001b[39mor\u001b[39;00m \u001b[39mself\u001b[39m\u001b[39m.\u001b[39m_forward_hooks \u001b[39mor\u001b[39;00m \u001b[39mself\u001b[39m\u001b[39m.\u001b[39m_forward_pre_hooks \u001b[39mor\u001b[39;00m _global_backward_hooks\n\u001b[0;32m   <a href='file:///c%3A/Users/akhil/anaconda3/envs/data/lib/site-packages/torch/nn/modules/module.py?line=1108'>1109</a>\u001b[0m         \u001b[39mor\u001b[39;00m _global_forward_hooks \u001b[39mor\u001b[39;00m _global_forward_pre_hooks):\n\u001b[1;32m-> <a href='file:///c%3A/Users/akhil/anaconda3/envs/data/lib/site-packages/torch/nn/modules/module.py?line=1109'>1110</a>\u001b[0m     \u001b[39mreturn\u001b[39;00m forward_call(\u001b[39m*\u001b[39m\u001b[39minput\u001b[39m, \u001b[39m*\u001b[39m\u001b[39m*\u001b[39mkwargs)\n\u001b[0;32m   <a href='file:///c%3A/Users/akhil/anaconda3/envs/data/lib/site-packages/torch/nn/modules/module.py?line=1110'>1111</a>\u001b[0m \u001b[39m# Do not call functions when jit is used\u001b[39;00m\n\u001b[0;32m   <a href='file:///c%3A/Users/akhil/anaconda3/envs/data/lib/site-packages/torch/nn/modules/module.py?line=1111'>1112</a>\u001b[0m full_backward_hooks, non_full_backward_hooks \u001b[39m=\u001b[39m [], []\n",
      "File \u001b[1;32m~\\anaconda3\\envs\\data\\lib\\site-packages\\torch\\nn\\modules\\dropout.py:58\u001b[0m, in \u001b[0;36mDropout.forward\u001b[1;34m(self, input)\u001b[0m\n\u001b[0;32m     <a href='file:///c%3A/Users/akhil/anaconda3/envs/data/lib/site-packages/torch/nn/modules/dropout.py?line=56'>57</a>\u001b[0m \u001b[39mdef\u001b[39;00m \u001b[39mforward\u001b[39m(\u001b[39mself\u001b[39m, \u001b[39minput\u001b[39m: Tensor) \u001b[39m-\u001b[39m\u001b[39m>\u001b[39m Tensor:\n\u001b[1;32m---> <a href='file:///c%3A/Users/akhil/anaconda3/envs/data/lib/site-packages/torch/nn/modules/dropout.py?line=57'>58</a>\u001b[0m     \u001b[39mreturn\u001b[39;00m F\u001b[39m.\u001b[39;49mdropout(\u001b[39minput\u001b[39;49m, \u001b[39mself\u001b[39;49m\u001b[39m.\u001b[39;49mp, \u001b[39mself\u001b[39;49m\u001b[39m.\u001b[39;49mtraining, \u001b[39mself\u001b[39;49m\u001b[39m.\u001b[39;49minplace)\n",
      "File \u001b[1;32m~\\anaconda3\\envs\\data\\lib\\site-packages\\torch\\nn\\functional.py:1279\u001b[0m, in \u001b[0;36mdropout\u001b[1;34m(input, p, training, inplace)\u001b[0m\n\u001b[0;32m   <a href='file:///c%3A/Users/akhil/anaconda3/envs/data/lib/site-packages/torch/nn/functional.py?line=1276'>1277</a>\u001b[0m \u001b[39mif\u001b[39;00m p \u001b[39m<\u001b[39m \u001b[39m0.0\u001b[39m \u001b[39mor\u001b[39;00m p \u001b[39m>\u001b[39m \u001b[39m1.0\u001b[39m:\n\u001b[0;32m   <a href='file:///c%3A/Users/akhil/anaconda3/envs/data/lib/site-packages/torch/nn/functional.py?line=1277'>1278</a>\u001b[0m     \u001b[39mraise\u001b[39;00m \u001b[39mValueError\u001b[39;00m(\u001b[39m\"\u001b[39m\u001b[39mdropout probability has to be between 0 and 1, \u001b[39m\u001b[39m\"\u001b[39m \u001b[39m\"\u001b[39m\u001b[39mbut got \u001b[39m\u001b[39m{}\u001b[39;00m\u001b[39m\"\u001b[39m\u001b[39m.\u001b[39mformat(p))\n\u001b[1;32m-> <a href='file:///c%3A/Users/akhil/anaconda3/envs/data/lib/site-packages/torch/nn/functional.py?line=1278'>1279</a>\u001b[0m \u001b[39mreturn\u001b[39;00m _VF\u001b[39m.\u001b[39mdropout_(\u001b[39minput\u001b[39m, p, training) \u001b[39mif\u001b[39;00m inplace \u001b[39melse\u001b[39;00m _VF\u001b[39m.\u001b[39;49mdropout(\u001b[39minput\u001b[39;49m, p, training)\n",
      "\u001b[1;31mKeyboardInterrupt\u001b[0m: "
     ]
    }
   ],
   "source": [
    "epochs = 10\n",
    "print_every = 500\n",
    "\n",
    "samples=[]\n",
    "losses=[]\n",
    "\n",
    "sample_size = 16\n",
    "fixed_z = np.random.uniform(-1,1,size=(batch_size, g_input))\n",
    "fixed_z = torch.from_numpy(fixed_z).float()\n",
    "fixed_z = fixed_z.cuda()\n",
    "\n",
    "disc.train()\n",
    "gen.train()\n",
    "\n",
    "for epoch in range(epochs):\n",
    "    for batch_i, (real_images,_) in enumerate(train_loader):\n",
    "        batch_size = real_images.size(0)\n",
    "\n",
    "        #rescaling the images:\n",
    "        real_images = real_images*2 -1\n",
    "        \n",
    "        #moving real_images to GPU\n",
    "        real_images=real_images.cuda()\n",
    "\n",
    "        #________________Training the Discriminator________________________________\n",
    "\n",
    "        z = np.random.uniform(-1,1,size=(batch_size, g_input))\n",
    "        z = torch.from_numpy(z).float()\n",
    "        z = z.cuda()\n",
    "        fake_images = gen(z)\n",
    "        fake_images = fake_images.cuda()\n",
    "    \n",
    "    # Generating the Real and Fake losses\n",
    "        d_real = disc(real_images)\n",
    "        d_fake = disc(fake_images)\n",
    "\n",
    "        r_loss = real_loss(d_real.squeeze(),smooth=True)\n",
    "        f_loss = fake_loss(d_fake.squeeze())\n",
    "\n",
    "        d_loss = r_loss+f_loss\n",
    "        d_loss.backward()\n",
    "        d_optimizer.step\n",
    "\n",
    "        d_optimizer.zero_grad()\n",
    "\n",
    "        #_______________Training the Generator_________________\n",
    "\n",
    "        z = np.random.uniform(-1,1,size=(batch_size, g_input))\n",
    "        z = torch.from_numpy(z).float()\n",
    "        z = z.cuda()\n",
    "        fake_images = gen(z)\n",
    "        fake_images = fake_images.cuda()\n",
    "\n",
    "        d_fake = disc(fake_images.detach())\n",
    "        g_loss = real_loss(d_fake)\n",
    "\n",
    "        g_loss.backward()\n",
    "        g_optimizer.step()\n",
    "        g_optimizer.zero_grad()\n",
    "\n",
    "        #_______________Printing the stats_______________\n",
    "        if batch_i %print_every ==0:\n",
    "            print(f'Epoch {epoch+1}/{epochs} | Discriminator loss:{d_loss.item():.4f}| generator_loss:{g_loss.item():.4f}')\n",
    "    \n",
    "    losses.append((d_loss.item(), g_loss.item()))\n",
    "\n",
    "    samples_z = gen(fixed_z)\n",
    "    samples.append(samples_z)\n"
   ]
  },
  {
   "cell_type": "code",
   "execution_count": 22,
   "id": "f2f52257",
   "metadata": {},
   "outputs": [],
   "source": [
    "disc_losses = [x[0] for x in losses]\n",
    "gen_losses = [x[1] for x in losses]"
   ]
  },
  {
   "cell_type": "code",
   "execution_count": 25,
   "id": "e054e05a",
   "metadata": {},
   "outputs": [
    {
     "data": {
      "image/png": "[encoded data removed]",
      "text/plain": [
       "<Figure size 864x432 with 1 Axes>"
      ]
     },
     "metadata": {
      "needs_background": "light"
     },
     "output_type": "display_data"
    }
   ],
   "source": [
    "fig,ax = plt.subplots()\n",
    "ax.plot(disc_losses,label='Discriminator Losses')\n",
    "ax.plot(gen_losses,label='Generator Losses')\n",
    "ax.set_ybound(lower=0.0, upper = 5.0)\n",
    "fig.set_size_inches(12,6)\n",
    "plt.show()\n"
   ]
  },
  {
   "cell_type": "code",
   "execution_count": 26,
   "id": "3783c615",
   "metadata": {},
   "outputs": [],
   "source": [
    "epochs_observed = list(range(epochs))[::4]\n",
    "epochs_observed.append(39)"
   ]
  },
  {
   "cell_type": "markdown",
   "id": "b67bf996",
   "metadata": {},
   "source": [
    "We have 64 digits in each sample. We are going to observe the first 5 in each epoch."
   ]
  },
  {
   "cell_type": "code",
   "execution_count": 27,
   "id": "ad16064e",
   "metadata": {},
   "outputs": [],
   "source": [
    "def view_samples(epoch,samples):\n",
    "    fig,axes = plt.subplots(figsize=(14,14), nrows=1, ncols=5, sharey=True)\n",
    "    for ax,img in zip(axes.flatten(),samples[epoch]):\n",
    "        img = img.detach().numpy()\n",
    "        ax.xaxis.set_visible(False)\n",
    "        ax.yaxis.set_visible(False)\n",
    "        im = ax.imshow(img.reshape(28,28), cmap='Greys') \n"
   ]
  },
  {
   "cell_type": "code",
   "execution_count": 28,
   "id": "37d4f31e",
   "metadata": {},
   "outputs": [
    {
     "data": {
      "image/png": "[encoded data removed]",
      "text/plain": [
       "<Figure size 1008x1008 with 5 Axes>"
      ]
     },
     "metadata": {
      "needs_background": "light"
     },
     "output_type": "display_data"
    }
   ],
   "source": [
    "# for epoch in epochs_observed:\n",
    "#     view_samples(epoch,samples)\n",
    "view_samples(8,samples)"
   ]
  },
  {
   "cell_type": "code",
   "execution_count": null,
   "id": "e09ff0d5",
   "metadata": {},
   "outputs": [],
   "source": []
  }
 ],
 "metadata": {
  "kernelspec": {
   "display_name": "Python 3 (ipykernel)",
   "language": "python",
   "name": "python3"
  },
  "language_info": {
   "codemirror_mode": {
    "name": "ipython",
    "version": 3
   },
   "file_extension": ".py",
   "mimetype": "text/x-python",
   "name": "python",
   "nbconvert_exporter": "python",
   "pygments_lexer": "ipython3",
   "version": "3.10.0"
  }
 },
 "nbformat": 4,
 "nbformat_minor": 5
}
