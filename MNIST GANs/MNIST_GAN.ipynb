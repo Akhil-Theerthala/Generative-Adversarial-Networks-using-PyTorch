{
 "cells": [
  {
   "cell_type": "code",
   "execution_count": 1,
   "id": "ae25be94",
   "metadata": {},
   "outputs": [],
   "source": [
    "import numpy as np\n",
    "import matplotlib.pyplot as plt\n",
    "import torch\n",
    "import torch.nn.functional as F\n",
    "from torch import nn, optim\n",
    "from torch.utils.data import DataLoader\n",
    "from torchvision import datasets, transforms"
   ]
  },
  {
   "cell_type": "code",
   "execution_count": 2,
   "id": "42aa7282",
   "metadata": {},
   "outputs": [],
   "source": [
    "#defining the batch_size\n",
    "batch_size = 64\n",
    "#Defining the transforms for the data\n",
    "transform = transforms.ToTensor()\n",
    "\n",
    "#Getting the data\n",
    "train_data = datasets.MNIST('data',download=True,\n",
    "                           train = True, transform = transform)\n",
    "\n",
    "#Preparing the dataloader\n",
    "train_loader = DataLoader(train_data, batch_size=batch_size,\n",
    "                         shuffle = True, num_workers=0)"
   ]
  },
  {
   "cell_type": "code",
   "execution_count": 3,
   "id": "55862001",
   "metadata": {},
   "outputs": [
    {
     "data": {
      "image/png": "[encoded data removed]",
      "text/plain": [
       "<Figure size 216x216 with 1 Axes>"
      ]
     },
     "metadata": {
      "needs_background": "light"
     },
     "output_type": "display_data"
    }
   ],
   "source": [
    "dataiter = iter(train_loader)\n",
    "images, labels = dataiter.next()\n",
    "images = images.numpy()\n",
    "\n",
    "i = 7\n",
    "img=np.squeeze(images[i])\n",
    "\n",
    "fig = plt.figure(figsize=(3,3))\n",
    "ax = fig.add_subplot(111)\n",
    "ax.imshow(img,cmap='gray')\n",
    "ax.set_title(labels[i])\n",
    "plt.show()\n",
    "\n"
   ]
  },
  {
   "cell_type": "markdown",
   "id": "874be436",
   "metadata": {},
   "source": [
    "### The model\n"
   ]
  },
  {
   "cell_type": "code",
   "execution_count": 14,
   "id": "ebd6e528",
   "metadata": {},
   "outputs": [],
   "source": [
    "class Discriminator(nn.Module):\n",
    "    def __init__(self,input_size,hidden_dim, output_size):\n",
    "        super().__init__()\n",
    "\n",
    "        self.fc1 = nn.Linear(input_size,hidden_dim*4)\n",
    "        self.fc2 = nn.Linear(hidden_dim*4,hidden_dim*2)\n",
    "        self.fc3 = nn.Linear(hidden_dim*2,hidden_dim)\n",
    "        self.fc4 = nn.Linear(hidden_dim,output_size)\n",
    "\n",
    "        self.dropout = nn.Dropout(0.3)\n",
    "\n",
    "    def forward(self,x):\n",
    "        \n",
    "        x = x.view(-1,28*28)\n",
    "\n",
    "        x = F.leaky_relu(self.fc1(x), 0.2)\n",
    "        x = self.dropout(x)\n",
    "        x = F.leaky_relu(self.fc2(x), 0.2)\n",
    "        x = self.dropout(x)\n",
    "        x = F.leaky_relu(self.fc3(x), 0.2)\n",
    "        x = self.dropout(x)\n",
    "        out = self.fc4(x)\n",
    "        return out"
   ]
  },
  {
   "cell_type": "code",
   "execution_count": 15,
   "id": "65fa389e",
   "metadata": {},
   "outputs": [],
   "source": [
    "class Generator(nn.Module):\n",
    "    def __init__(self,input_size,hidden_dim, output_size):\n",
    "        super().__init__()\n",
    "        \n",
    "        self.fc1 = nn.Linear(input_size,hidden_dim)\n",
    "        self.fc2 = nn.Linear(hidden_dim,hidden_dim*2)\n",
    "        self.fc3 = nn.Linear(hidden_dim*2,hidden_dim*4)\n",
    "        self.fc4 = nn.Linear(hidden_dim*4,output_size)\n",
    "\n",
    "        self.dropout = nn.Dropout(0.4)\n",
    "\n",
    "    def forward(self,x):\n",
    "\n",
    "        x = F.leaky_relu(self.fc1(x), 0.2)\n",
    "        x = self.dropout(x)\n",
    "        x = F.leaky_relu(self.fc2(x), 0.2)\n",
    "        x = self.dropout(x)\n",
    "        x = F.leaky_relu(self.fc3(x), 0.2)\n",
    "        x = self.dropout(x)\n",
    "        out = torch.tanh(self.fc4(x))\n",
    "        return out"
   ]
  },
  {
   "cell_type": "code",
   "execution_count": 16,
   "id": "387bb7ec",
   "metadata": {},
   "outputs": [],
   "source": [
    "# Defining the Hyperparameters.\n",
    "\n",
    "#Discriminator Hyperparameters\n",
    "d_input_size = 784\n",
    "d_output_size = 1\n",
    "d_hidden_dim = 32\n",
    "\n",
    "#Generator Hyperparameters\n",
    "g_input = 100\n",
    "g_output = 784\n",
    "g_hidden_dim  = 64\n"
   ]
  },
  {
   "cell_type": "code",
   "execution_count": 17,
   "id": "246c3fab",
   "metadata": {},
   "outputs": [
    {
     "name": "stdout",
     "output_type": "stream",
     "text": [
      "Discriminator(\n",
      "  (fc1): Linear(in_features=784, out_features=128, bias=True)\n",
      "  (fc2): Linear(in_features=128, out_features=64, bias=True)\n",
      "  (fc3): Linear(in_features=64, out_features=32, bias=True)\n",
      "  (fc4): Linear(in_features=32, out_features=1, bias=True)\n",
      "  (dropout): Dropout(p=0.3, inplace=False)\n",
      ")\n",
      "\n",
      "Generator(\n",
      "  (fc1): Linear(in_features=100, out_features=64, bias=True)\n",
      "  (fc2): Linear(in_features=64, out_features=128, bias=True)\n",
      "  (fc3): Linear(in_features=128, out_features=256, bias=True)\n",
      "  (fc4): Linear(in_features=256, out_features=784, bias=True)\n",
      "  (dropout): Dropout(p=0.4, inplace=False)\n",
      ")\n"
     ]
    }
   ],
   "source": [
    "disc = Discriminator(d_input_size,d_hidden_dim,d_output_size)\n",
    "gen = Generator(g_input,g_hidden_dim,g_output)\n",
    "\n",
    "print(disc)\n",
    "print()\n",
    "print(gen)"
   ]
  },
  {
   "cell_type": "code",
   "execution_count": 18,
   "id": "02296896",
   "metadata": {},
   "outputs": [],
   "source": [
    "#Loss Functions\n",
    "def real_loss(d_out,smooth = False):\n",
    "    size = d_out.size(0)\n",
    "\n",
    "    if smooth:\n",
    "        labels = torch.ones(size)*0.9\n",
    "    else:\n",
    "        labels = torch.ones(size) \n",
    "\n",
    "    criterion = nn.BCEWithLogitsLoss()\n",
    "    loss = criterion(d_out.squeeze(),labels)\n",
    "    return loss\n",
    "\n",
    "def fake_loss (d_out):\n",
    "    labels = torch.zeros(d_out.shape[0])\n",
    "    criterion = nn.BCEWithLogitsLoss()\n",
    "    loss = criterion(d_out.squeeze(),labels)\n",
    "\n",
    "    return loss\n"
   ]
  },
  {
   "cell_type": "code",
   "execution_count": 19,
   "id": "44ef3f88",
   "metadata": {},
   "outputs": [],
   "source": [
    "#Defining the Optimizers\n",
    "lr = 0.002\n",
    "d_optimizer = optim.Adam(disc.parameters(),lr)\n",
    "g_optimizer = optim.Adam(gen.parameters(), lr)"
   ]
  },
  {
   "cell_type": "markdown",
   "id": "4b79e98f",
   "metadata": {},
   "source": [
    "## Training the 2 models.\n",
    "\n",
    "1. First, we need to train the Discriminator model, To do that, \n",
    "    * We first need to train the discriminator on the real images\n",
    "    * Generate Fake images\n",
    "    * Train the model on fake images with labels = 0\n",
    "    * Add the real and fake losses\n",
    "    * Perform Back propagation\n",
    "<br>\n",
    "\n",
    "2. With the trained model in our hand, it is now time to train the Generator model.\n",
    "    *  We generate the fake images\n",
    "    * Compute the discriminator loss with the labels = 1\n",
    "    * back_propagation\n"
   ]
  },
  {
   "cell_type": "code",
   "execution_count": 20,
   "id": "3438e54a",
   "metadata": {},
   "outputs": [
    {
     "name": "stdout",
     "output_type": "stream",
     "text": [
      "Epoch 1/100 | Discriminator loss:1.3881| generator_loss:0.6191\n",
      "Epoch 1/100 | Discriminator loss:1.3228| generator_loss:0.6715\n",
      "Epoch 2/100 | Discriminator loss:1.3231| generator_loss:0.6834\n",
      "Epoch 2/100 | Discriminator loss:1.3120| generator_loss:0.6868\n",
      "Epoch 3/100 | Discriminator loss:1.3125| generator_loss:0.6839\n",
      "Epoch 3/100 | Discriminator loss:1.3194| generator_loss:0.6880\n",
      "Epoch 4/100 | Discriminator loss:1.3146| generator_loss:0.6884\n",
      "Epoch 4/100 | Discriminator loss:1.3153| generator_loss:0.6873\n",
      "Epoch 5/100 | Discriminator loss:1.3065| generator_loss:0.6866\n",
      "Epoch 5/100 | Discriminator loss:1.3106| generator_loss:0.6995\n",
      "Epoch 6/100 | Discriminator loss:1.3182| generator_loss:0.6918\n",
      "Epoch 6/100 | Discriminator loss:1.3097| generator_loss:0.6868\n",
      "Epoch 7/100 | Discriminator loss:1.3088| generator_loss:0.6843\n",
      "Epoch 7/100 | Discriminator loss:1.3216| generator_loss:0.6779\n",
      "Epoch 8/100 | Discriminator loss:1.3250| generator_loss:0.6872\n",
      "Epoch 8/100 | Discriminator loss:1.3226| generator_loss:0.6806\n",
      "Epoch 9/100 | Discriminator loss:1.3207| generator_loss:0.6844\n",
      "Epoch 9/100 | Discriminator loss:1.3212| generator_loss:0.6828\n",
      "Epoch 10/100 | Discriminator loss:1.3199| generator_loss:0.6802\n",
      "Epoch 10/100 | Discriminator loss:1.3204| generator_loss:0.6809\n"
     ]
    },
    {
     "ename": "KeyboardInterrupt",
     "evalue": "",
     "output_type": "error",
     "traceback": [
      "\u001b[1;31m---------------------------------------------------------------------------\u001b[0m",
      "\u001b[1;31mKeyboardInterrupt\u001b[0m                         Traceback (most recent call last)",
      "\u001b[1;32mw:\\The Actual Work\\Repo\\GitHub Repositories\\Generative-Adversarial-Networks-using-PyTorch\\MNIST GANs\\MNIST_GAN.ipynb Cell 12'\u001b[0m in \u001b[0;36m<cell line: 14>\u001b[1;34m()\u001b[0m\n\u001b[0;32m     <a href='vscode-notebook-cell:/w%3A/The%20Actual%20Work/Repo/GitHub%20Repositories/Generative-Adversarial-Networks-using-PyTorch/MNIST%20GANs/MNIST_GAN.ipynb#ch0000012?line=11'>12</a>\u001b[0m gen\u001b[39m.\u001b[39mtrain()\n\u001b[0;32m     <a href='vscode-notebook-cell:/w%3A/The%20Actual%20Work/Repo/GitHub%20Repositories/Generative-Adversarial-Networks-using-PyTorch/MNIST%20GANs/MNIST_GAN.ipynb#ch0000012?line=13'>14</a>\u001b[0m \u001b[39mfor\u001b[39;00m epoch \u001b[39min\u001b[39;00m \u001b[39mrange\u001b[39m(epochs):\n\u001b[1;32m---> <a href='vscode-notebook-cell:/w%3A/The%20Actual%20Work/Repo/GitHub%20Repositories/Generative-Adversarial-Networks-using-PyTorch/MNIST%20GANs/MNIST_GAN.ipynb#ch0000012?line=14'>15</a>\u001b[0m     \u001b[39mfor\u001b[39;00m batch_i, (real_images,_) \u001b[39min\u001b[39;00m \u001b[39menumerate\u001b[39m(train_loader):\n\u001b[0;32m     <a href='vscode-notebook-cell:/w%3A/The%20Actual%20Work/Repo/GitHub%20Repositories/Generative-Adversarial-Networks-using-PyTorch/MNIST%20GANs/MNIST_GAN.ipynb#ch0000012?line=15'>16</a>\u001b[0m         batch_size \u001b[39m=\u001b[39m real_images\u001b[39m.\u001b[39msize(\u001b[39m0\u001b[39m)\n\u001b[0;32m     <a href='vscode-notebook-cell:/w%3A/The%20Actual%20Work/Repo/GitHub%20Repositories/Generative-Adversarial-Networks-using-PyTorch/MNIST%20GANs/MNIST_GAN.ipynb#ch0000012?line=17'>18</a>\u001b[0m         \u001b[39m#rescaling the images:\u001b[39;00m\n",
      "File \u001b[1;32m~\\anaconda3\\envs\\data\\lib\\site-packages\\torch\\utils\\data\\dataloader.py:530\u001b[0m, in \u001b[0;36m_BaseDataLoaderIter.__next__\u001b[1;34m(self)\u001b[0m\n\u001b[0;32m    <a href='file:///c%3A/Users/akhil/anaconda3/envs/data/lib/site-packages/torch/utils/data/dataloader.py?line=527'>528</a>\u001b[0m \u001b[39mif\u001b[39;00m \u001b[39mself\u001b[39m\u001b[39m.\u001b[39m_sampler_iter \u001b[39mis\u001b[39;00m \u001b[39mNone\u001b[39;00m:\n\u001b[0;32m    <a href='file:///c%3A/Users/akhil/anaconda3/envs/data/lib/site-packages/torch/utils/data/dataloader.py?line=528'>529</a>\u001b[0m     \u001b[39mself\u001b[39m\u001b[39m.\u001b[39m_reset()\n\u001b[1;32m--> <a href='file:///c%3A/Users/akhil/anaconda3/envs/data/lib/site-packages/torch/utils/data/dataloader.py?line=529'>530</a>\u001b[0m data \u001b[39m=\u001b[39m \u001b[39mself\u001b[39;49m\u001b[39m.\u001b[39;49m_next_data()\n\u001b[0;32m    <a href='file:///c%3A/Users/akhil/anaconda3/envs/data/lib/site-packages/torch/utils/data/dataloader.py?line=530'>531</a>\u001b[0m \u001b[39mself\u001b[39m\u001b[39m.\u001b[39m_num_yielded \u001b[39m+\u001b[39m\u001b[39m=\u001b[39m \u001b[39m1\u001b[39m\n\u001b[0;32m    <a href='file:///c%3A/Users/akhil/anaconda3/envs/data/lib/site-packages/torch/utils/data/dataloader.py?line=531'>532</a>\u001b[0m \u001b[39mif\u001b[39;00m \u001b[39mself\u001b[39m\u001b[39m.\u001b[39m_dataset_kind \u001b[39m==\u001b[39m _DatasetKind\u001b[39m.\u001b[39mIterable \u001b[39mand\u001b[39;00m \\\n\u001b[0;32m    <a href='file:///c%3A/Users/akhil/anaconda3/envs/data/lib/site-packages/torch/utils/data/dataloader.py?line=532'>533</a>\u001b[0m         \u001b[39mself\u001b[39m\u001b[39m.\u001b[39m_IterableDataset_len_called \u001b[39mis\u001b[39;00m \u001b[39mnot\u001b[39;00m \u001b[39mNone\u001b[39;00m \u001b[39mand\u001b[39;00m \\\n\u001b[0;32m    <a href='file:///c%3A/Users/akhil/anaconda3/envs/data/lib/site-packages/torch/utils/data/dataloader.py?line=533'>534</a>\u001b[0m         \u001b[39mself\u001b[39m\u001b[39m.\u001b[39m_num_yielded \u001b[39m>\u001b[39m \u001b[39mself\u001b[39m\u001b[39m.\u001b[39m_IterableDataset_len_called:\n",
      "File \u001b[1;32m~\\anaconda3\\envs\\data\\lib\\site-packages\\torch\\utils\\data\\dataloader.py:570\u001b[0m, in \u001b[0;36m_SingleProcessDataLoaderIter._next_data\u001b[1;34m(self)\u001b[0m\n\u001b[0;32m    <a href='file:///c%3A/Users/akhil/anaconda3/envs/data/lib/site-packages/torch/utils/data/dataloader.py?line=567'>568</a>\u001b[0m \u001b[39mdef\u001b[39;00m \u001b[39m_next_data\u001b[39m(\u001b[39mself\u001b[39m):\n\u001b[0;32m    <a href='file:///c%3A/Users/akhil/anaconda3/envs/data/lib/site-packages/torch/utils/data/dataloader.py?line=568'>569</a>\u001b[0m     index \u001b[39m=\u001b[39m \u001b[39mself\u001b[39m\u001b[39m.\u001b[39m_next_index()  \u001b[39m# may raise StopIteration\u001b[39;00m\n\u001b[1;32m--> <a href='file:///c%3A/Users/akhil/anaconda3/envs/data/lib/site-packages/torch/utils/data/dataloader.py?line=569'>570</a>\u001b[0m     data \u001b[39m=\u001b[39m \u001b[39mself\u001b[39;49m\u001b[39m.\u001b[39;49m_dataset_fetcher\u001b[39m.\u001b[39;49mfetch(index)  \u001b[39m# may raise StopIteration\u001b[39;00m\n\u001b[0;32m    <a href='file:///c%3A/Users/akhil/anaconda3/envs/data/lib/site-packages/torch/utils/data/dataloader.py?line=570'>571</a>\u001b[0m     \u001b[39mif\u001b[39;00m \u001b[39mself\u001b[39m\u001b[39m.\u001b[39m_pin_memory:\n\u001b[0;32m    <a href='file:///c%3A/Users/akhil/anaconda3/envs/data/lib/site-packages/torch/utils/data/dataloader.py?line=571'>572</a>\u001b[0m         data \u001b[39m=\u001b[39m _utils\u001b[39m.\u001b[39mpin_memory\u001b[39m.\u001b[39mpin_memory(data)\n",
      "File \u001b[1;32m~\\anaconda3\\envs\\data\\lib\\site-packages\\torch\\utils\\data\\_utils\\fetch.py:49\u001b[0m, in \u001b[0;36m_MapDatasetFetcher.fetch\u001b[1;34m(self, possibly_batched_index)\u001b[0m\n\u001b[0;32m     <a href='file:///c%3A/Users/akhil/anaconda3/envs/data/lib/site-packages/torch/utils/data/_utils/fetch.py?line=46'>47</a>\u001b[0m \u001b[39mdef\u001b[39;00m \u001b[39mfetch\u001b[39m(\u001b[39mself\u001b[39m, possibly_batched_index):\n\u001b[0;32m     <a href='file:///c%3A/Users/akhil/anaconda3/envs/data/lib/site-packages/torch/utils/data/_utils/fetch.py?line=47'>48</a>\u001b[0m     \u001b[39mif\u001b[39;00m \u001b[39mself\u001b[39m\u001b[39m.\u001b[39mauto_collation:\n\u001b[1;32m---> <a href='file:///c%3A/Users/akhil/anaconda3/envs/data/lib/site-packages/torch/utils/data/_utils/fetch.py?line=48'>49</a>\u001b[0m         data \u001b[39m=\u001b[39m [\u001b[39mself\u001b[39m\u001b[39m.\u001b[39mdataset[idx] \u001b[39mfor\u001b[39;00m idx \u001b[39min\u001b[39;00m possibly_batched_index]\n\u001b[0;32m     <a href='file:///c%3A/Users/akhil/anaconda3/envs/data/lib/site-packages/torch/utils/data/_utils/fetch.py?line=49'>50</a>\u001b[0m     \u001b[39melse\u001b[39;00m:\n\u001b[0;32m     <a href='file:///c%3A/Users/akhil/anaconda3/envs/data/lib/site-packages/torch/utils/data/_utils/fetch.py?line=50'>51</a>\u001b[0m         data \u001b[39m=\u001b[39m \u001b[39mself\u001b[39m\u001b[39m.\u001b[39mdataset[possibly_batched_index]\n",
      "File \u001b[1;32m~\\anaconda3\\envs\\data\\lib\\site-packages\\torch\\utils\\data\\_utils\\fetch.py:49\u001b[0m, in \u001b[0;36m<listcomp>\u001b[1;34m(.0)\u001b[0m\n\u001b[0;32m     <a href='file:///c%3A/Users/akhil/anaconda3/envs/data/lib/site-packages/torch/utils/data/_utils/fetch.py?line=46'>47</a>\u001b[0m \u001b[39mdef\u001b[39;00m \u001b[39mfetch\u001b[39m(\u001b[39mself\u001b[39m, possibly_batched_index):\n\u001b[0;32m     <a href='file:///c%3A/Users/akhil/anaconda3/envs/data/lib/site-packages/torch/utils/data/_utils/fetch.py?line=47'>48</a>\u001b[0m     \u001b[39mif\u001b[39;00m \u001b[39mself\u001b[39m\u001b[39m.\u001b[39mauto_collation:\n\u001b[1;32m---> <a href='file:///c%3A/Users/akhil/anaconda3/envs/data/lib/site-packages/torch/utils/data/_utils/fetch.py?line=48'>49</a>\u001b[0m         data \u001b[39m=\u001b[39m [\u001b[39mself\u001b[39;49m\u001b[39m.\u001b[39;49mdataset[idx] \u001b[39mfor\u001b[39;00m idx \u001b[39min\u001b[39;00m possibly_batched_index]\n\u001b[0;32m     <a href='file:///c%3A/Users/akhil/anaconda3/envs/data/lib/site-packages/torch/utils/data/_utils/fetch.py?line=49'>50</a>\u001b[0m     \u001b[39melse\u001b[39;00m:\n\u001b[0;32m     <a href='file:///c%3A/Users/akhil/anaconda3/envs/data/lib/site-packages/torch/utils/data/_utils/fetch.py?line=50'>51</a>\u001b[0m         data \u001b[39m=\u001b[39m \u001b[39mself\u001b[39m\u001b[39m.\u001b[39mdataset[possibly_batched_index]\n",
      "File \u001b[1;32m~\\anaconda3\\envs\\data\\lib\\site-packages\\torchvision\\datasets\\mnist.py:145\u001b[0m, in \u001b[0;36mMNIST.__getitem__\u001b[1;34m(self, index)\u001b[0m\n\u001b[0;32m    <a href='file:///c%3A/Users/akhil/anaconda3/envs/data/lib/site-packages/torchvision/datasets/mnist.py?line=141'>142</a>\u001b[0m img \u001b[39m=\u001b[39m Image\u001b[39m.\u001b[39mfromarray(img\u001b[39m.\u001b[39mnumpy(), mode\u001b[39m=\u001b[39m\u001b[39m\"\u001b[39m\u001b[39mL\u001b[39m\u001b[39m\"\u001b[39m)\n\u001b[0;32m    <a href='file:///c%3A/Users/akhil/anaconda3/envs/data/lib/site-packages/torchvision/datasets/mnist.py?line=143'>144</a>\u001b[0m \u001b[39mif\u001b[39;00m \u001b[39mself\u001b[39m\u001b[39m.\u001b[39mtransform \u001b[39mis\u001b[39;00m \u001b[39mnot\u001b[39;00m \u001b[39mNone\u001b[39;00m:\n\u001b[1;32m--> <a href='file:///c%3A/Users/akhil/anaconda3/envs/data/lib/site-packages/torchvision/datasets/mnist.py?line=144'>145</a>\u001b[0m     img \u001b[39m=\u001b[39m \u001b[39mself\u001b[39;49m\u001b[39m.\u001b[39;49mtransform(img)\n\u001b[0;32m    <a href='file:///c%3A/Users/akhil/anaconda3/envs/data/lib/site-packages/torchvision/datasets/mnist.py?line=146'>147</a>\u001b[0m \u001b[39mif\u001b[39;00m \u001b[39mself\u001b[39m\u001b[39m.\u001b[39mtarget_transform \u001b[39mis\u001b[39;00m \u001b[39mnot\u001b[39;00m \u001b[39mNone\u001b[39;00m:\n\u001b[0;32m    <a href='file:///c%3A/Users/akhil/anaconda3/envs/data/lib/site-packages/torchvision/datasets/mnist.py?line=147'>148</a>\u001b[0m     target \u001b[39m=\u001b[39m \u001b[39mself\u001b[39m\u001b[39m.\u001b[39mtarget_transform(target)\n",
      "File \u001b[1;32m~\\anaconda3\\envs\\data\\lib\\site-packages\\torchvision\\transforms\\transforms.py:135\u001b[0m, in \u001b[0;36mToTensor.__call__\u001b[1;34m(self, pic)\u001b[0m\n\u001b[0;32m    <a href='file:///c%3A/Users/akhil/anaconda3/envs/data/lib/site-packages/torchvision/transforms/transforms.py?line=126'>127</a>\u001b[0m \u001b[39mdef\u001b[39;00m \u001b[39m__call__\u001b[39m(\u001b[39mself\u001b[39m, pic):\n\u001b[0;32m    <a href='file:///c%3A/Users/akhil/anaconda3/envs/data/lib/site-packages/torchvision/transforms/transforms.py?line=127'>128</a>\u001b[0m     \u001b[39m\"\"\"\u001b[39;00m\n\u001b[0;32m    <a href='file:///c%3A/Users/akhil/anaconda3/envs/data/lib/site-packages/torchvision/transforms/transforms.py?line=128'>129</a>\u001b[0m \u001b[39m    Args:\u001b[39;00m\n\u001b[0;32m    <a href='file:///c%3A/Users/akhil/anaconda3/envs/data/lib/site-packages/torchvision/transforms/transforms.py?line=129'>130</a>\u001b[0m \u001b[39m        pic (PIL Image or numpy.ndarray): Image to be converted to tensor.\u001b[39;00m\n\u001b[1;32m   (...)\u001b[0m\n\u001b[0;32m    <a href='file:///c%3A/Users/akhil/anaconda3/envs/data/lib/site-packages/torchvision/transforms/transforms.py?line=132'>133</a>\u001b[0m \u001b[39m        Tensor: Converted image.\u001b[39;00m\n\u001b[0;32m    <a href='file:///c%3A/Users/akhil/anaconda3/envs/data/lib/site-packages/torchvision/transforms/transforms.py?line=133'>134</a>\u001b[0m \u001b[39m    \"\"\"\u001b[39;00m\n\u001b[1;32m--> <a href='file:///c%3A/Users/akhil/anaconda3/envs/data/lib/site-packages/torchvision/transforms/transforms.py?line=134'>135</a>\u001b[0m     \u001b[39mreturn\u001b[39;00m F\u001b[39m.\u001b[39;49mto_tensor(pic)\n",
      "File \u001b[1;32m~\\anaconda3\\envs\\data\\lib\\site-packages\\torchvision\\transforms\\functional.py:151\u001b[0m, in \u001b[0;36mto_tensor\u001b[1;34m(pic)\u001b[0m\n\u001b[0;32m    <a href='file:///c%3A/Users/akhil/anaconda3/envs/data/lib/site-packages/torchvision/transforms/functional.py?line=148'>149</a>\u001b[0m \u001b[39mif\u001b[39;00m pic\u001b[39m.\u001b[39mmode \u001b[39m==\u001b[39m \u001b[39m\"\u001b[39m\u001b[39m1\u001b[39m\u001b[39m\"\u001b[39m:\n\u001b[0;32m    <a href='file:///c%3A/Users/akhil/anaconda3/envs/data/lib/site-packages/torchvision/transforms/functional.py?line=149'>150</a>\u001b[0m     img \u001b[39m=\u001b[39m \u001b[39m255\u001b[39m \u001b[39m*\u001b[39m img\n\u001b[1;32m--> <a href='file:///c%3A/Users/akhil/anaconda3/envs/data/lib/site-packages/torchvision/transforms/functional.py?line=150'>151</a>\u001b[0m img \u001b[39m=\u001b[39m img\u001b[39m.\u001b[39;49mview(pic\u001b[39m.\u001b[39;49msize[\u001b[39m1\u001b[39;49m], pic\u001b[39m.\u001b[39;49msize[\u001b[39m0\u001b[39;49m], \u001b[39mlen\u001b[39;49m(pic\u001b[39m.\u001b[39;49mgetbands()))\n\u001b[0;32m    <a href='file:///c%3A/Users/akhil/anaconda3/envs/data/lib/site-packages/torchvision/transforms/functional.py?line=151'>152</a>\u001b[0m \u001b[39m# put it from HWC to CHW format\u001b[39;00m\n\u001b[0;32m    <a href='file:///c%3A/Users/akhil/anaconda3/envs/data/lib/site-packages/torchvision/transforms/functional.py?line=152'>153</a>\u001b[0m img \u001b[39m=\u001b[39m img\u001b[39m.\u001b[39mpermute((\u001b[39m2\u001b[39m, \u001b[39m0\u001b[39m, \u001b[39m1\u001b[39m))\u001b[39m.\u001b[39mcontiguous()\n",
      "\u001b[1;31mKeyboardInterrupt\u001b[0m: "
     ]
    }
   ],
   "source": [
    "epochs = 100\n",
    "print_every = 500\n",
    "\n",
    "samples=[]\n",
    "losses=[]\n",
    "\n",
    "sample_size = 16\n",
    "fixed_z = np.random.uniform(-1,1,size=(batch_size, g_input))\n",
    "fixed_z = torch.from_numpy(fixed_z).float()\n",
    "\n",
    "disc.train()\n",
    "gen.train()\n",
    "\n",
    "for epoch in range(epochs):\n",
    "    for batch_i, (real_images,_) in enumerate(train_loader):\n",
    "        batch_size = real_images.size(0)\n",
    "\n",
    "        #rescaling the images:\n",
    "        real_images = real_images*2 -1\n",
    "\n",
    "        #________________Training the Discriminator________________________________\n",
    "\n",
    "        z = np.random.uniform(-1,1,size=(batch_size, g_input))\n",
    "        z = torch.from_numpy(z).float()\n",
    "        fake_images = gen(z)\n",
    "    \n",
    "    # Generating the Real and Fake losses\n",
    "        d_real = disc(real_images)\n",
    "        d_fake = disc(fake_images)\n",
    "\n",
    "        r_loss = real_loss(d_real.squeeze(),smooth=True)\n",
    "        f_loss = fake_loss(d_fake.squeeze())\n",
    "\n",
    "        d_loss = r_loss+f_loss\n",
    "        d_loss.backward()\n",
    "        d_optimizer.step\n",
    "\n",
    "        d_optimizer.zero_grad()\n",
    "\n",
    "        #_______________Training the Generator_________________\n",
    "\n",
    "        z = np.random.uniform(-1,1,size=(batch_size, g_input))\n",
    "        z = torch.from_numpy(z).float()\n",
    "        fake_images = gen(z)\n",
    "\n",
    "        d_fake = disc(fake_images)\n",
    "        g_loss = real_loss(d_fake)\n",
    "\n",
    "        g_loss.backward()\n",
    "        g_optimizer.step()\n",
    "        g_optimizer.zero_grad()\n",
    "\n",
    "        #_______________Printing the stats_______________\n",
    "        if batch_i %print_every ==0:\n",
    "            print(f'Epoch {epoch+1}/{epochs} | Discriminator loss:{d_loss.item():.4f}| generator_loss:{g_loss.item():.4f}')\n",
    "    \n",
    "    losses.append((d_loss.item(), g_loss.item()))\n",
    "\n",
    "    samples_z = gen(fixed_z)\n",
    "    samples.append(samples_z)\n"
   ]
  },
  {
   "cell_type": "code",
   "execution_count": 22,
   "id": "f2f52257",
   "metadata": {},
   "outputs": [],
   "source": [
    "disc_losses = [x[0] for x in losses]\n",
    "gen_losses = [x[1] for x in losses]"
   ]
  },
  {
   "cell_type": "code",
   "execution_count": 25,
   "id": "e054e05a",
   "metadata": {},
   "outputs": [
    {
     "data": {
      "image/png": "[encoded data removed]",
      "text/plain": [
       "<Figure size 864x432 with 1 Axes>"
      ]
     },
     "metadata": {
      "needs_background": "light"
     },
     "output_type": "display_data"
    }
   ],
   "source": [
    "fig,ax = plt.subplots()\n",
    "ax.plot(disc_losses,label='Discriminator Losses')\n",
    "ax.plot(gen_losses,label='Generator Losses')\n",
    "ax.set_ybound(lower=0.0, upper = 5.0)\n",
    "fig.set_size_inches(12,6)\n",
    "plt.show()\n"
   ]
  },
  {
   "cell_type": "code",
   "execution_count": 26,
   "id": "3783c615",
   "metadata": {},
   "outputs": [],
   "source": [
    "epochs_observed = list(range(epochs))[::4]\n",
    "epochs_observed.append(39)"
   ]
  },
  {
   "cell_type": "markdown",
   "id": "b67bf996",
   "metadata": {},
   "source": [
    "We have 64 digits in each sample. We are going to observe the first 5 in each epoch."
   ]
  },
  {
   "cell_type": "code",
   "execution_count": 27,
   "id": "ad16064e",
   "metadata": {},
   "outputs": [],
   "source": [
    "def view_samples(epoch,samples):\n",
    "    fig,axes = plt.subplots(figsize=(14,14), nrows=1, ncols=5, sharey=True)\n",
    "    for ax,img in zip(axes.flatten(),samples[epoch]):\n",
    "        img = img.detach().numpy()\n",
    "        ax.xaxis.set_visible(False)\n",
    "        ax.yaxis.set_visible(False)\n",
    "        im = ax.imshow(img.reshape(28,28), cmap='Greys') \n"
   ]
  },
  {
   "cell_type": "code",
   "execution_count": 28,
   "id": "37d4f31e",
   "metadata": {},
   "outputs": [
    {
     "data": {
      "image/png": "[encoded data removed]",
      "text/plain": [
       "<Figure size 1008x1008 with 5 Axes>"
      ]
     },
     "metadata": {
      "needs_background": "light"
     },
     "output_type": "display_data"
    }
   ],
   "source": [
    "# for epoch in epochs_observed:\n",
    "#     view_samples(epoch,samples)\n",
    "view_samples(8,samples)"
   ]
  },
  {
   "cell_type": "code",
   "execution_count": null,
   "id": "e09ff0d5",
   "metadata": {},
   "outputs": [],
   "source": []
  }
 ],
 "metadata": {
  "kernelspec": {
   "display_name": "Python 3 (ipykernel)",
   "language": "python",
   "name": "python3"
  },
  "language_info": {
   "codemirror_mode": {
    "name": "ipython",
    "version": 3
   },
   "file_extension": ".py",
   "mimetype": "text/x-python",
   "name": "python",
   "nbconvert_exporter": "python",
   "pygments_lexer": "ipython3",
   "version": "3.10.0"
  }
 },
 "nbformat": 4,
 "nbformat_minor": 5
}
