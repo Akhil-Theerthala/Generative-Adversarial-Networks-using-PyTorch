{
 "cells": [
  {
   "cell_type": "code",
   "execution_count": 1,
   "id": "ae25be94",
   "metadata": {},
   "outputs": [],
   "source": [
    "import numpy as np\n",
    "import matplotlib.pyplot as plt\n",
    "import torch\n",
    "import torch.nn.functional as F\n",
    "from torch import nn, optim\n",
    "from torch.utils.data import DataLoader\n",
    "from torchvision import datasets, transforms"
   ]
  },
  {
   "cell_type": "code",
   "execution_count": 2,
   "id": "42aa7282",
   "metadata": {},
   "outputs": [],
   "source": [
    "#defining the batch_size\n",
    "batch_size = 64\n",
    "#Defining the transforms for the data\n",
    "transform = transforms.ToTensor()\n",
    "\n",
    "#Getting the data\n",
    "train_data = datasets.MNIST(\n",
    "    'data',\n",
    "    download=True,\n",
    "    train = True,\n",
    "    transform = transform\n",
    "    )\n",
    "\n",
    "#Preparing the dataloader\n",
    "train_loader = DataLoader(\n",
    "    train_data,\n",
    "    batch_size=batch_size,\n",
    "    num_workers=0\n",
    "    )"
   ]
  },
  {
   "cell_type": "code",
   "execution_count": 3,
   "id": "55862001",
   "metadata": {},
   "outputs": [
    {
     "data": {
      "image/png": "[encoded data removed]",
      "text/plain": [
       "<Figure size 216x216 with 1 Axes>"
      ]
     },
     "metadata": {
      "needs_background": "light"
     },
     "output_type": "display_data"
    }
   ],
   "source": [
    "dataiter = iter(train_loader)\n",
    "images, labels = dataiter.next()\n",
    "images = images.numpy()\n",
    "\n",
    "i = 7\n",
    "img=np.squeeze(images[i])\n",
    "\n",
    "fig = plt.figure(figsize=(3,3))\n",
    "ax = fig.add_subplot(111)\n",
    "ax.imshow(img,cmap='gray')\n",
    "ax.set_title(labels[i])\n",
    "plt.show()\n",
    "\n"
   ]
  },
  {
   "cell_type": "markdown",
   "id": "874be436",
   "metadata": {},
   "source": [
    "### The model\n"
   ]
  },
  {
   "cell_type": "code",
   "execution_count": 22,
   "id": "ebd6e528",
   "metadata": {},
   "outputs": [],
   "source": [
    "class Discriminator(nn.Module):\n",
    "    def __init__(self,input_size,hidden_dim, output_size):\n",
    "        super().__init__()\n",
    "\n",
    "        self.fc1 = nn.Linear(input_size,hidden_dim*4)\n",
    "        self.fc2 = nn.Linear(hidden_dim*4,hidden_dim*2)\n",
    "        self.fc3 = nn.Linear(hidden_dim*2,hidden_dim)\n",
    "        self.fc4 = nn.Linear(hidden_dim,output_size)\n",
    "\n",
    "        self.dropout = nn.Dropout(0.3)\n",
    "        self.norm1 = nn.BatchNorm1d(hidden_dim*4)\n",
    "        self.norm2 = nn.BatchNorm1d(hidden_dim*2)\n",
    "        self.norm3 = nn.BatchNorm1d(hidden_dim)\n",
    "\n",
    "    def forward(self,x):\n",
    "        \n",
    "        x = x.view(-1,28*28)\n",
    "\n",
    "        x = F.leaky_relu(self.norm1(self.fc1(x)), 0.2)\n",
    "        x = self.dropout(x)\n",
    "        x = F.leaky_relu(self.norm2(self.fc2(x)), 0.2)\n",
    "        x = self.dropout(x)\n",
    "        x = F.leaky_relu(self.norm3(self.fc3(x)), 0.2)\n",
    "        x = self.dropout(x)\n",
    "        out = self.fc4(x)\n",
    "        return out"
   ]
  },
  {
   "cell_type": "code",
   "execution_count": 23,
   "id": "65fa389e",
   "metadata": {},
   "outputs": [],
   "source": [
    "class Generator(nn.Module):\n",
    "    def __init__(self,input_size,hidden_dim, output_size):\n",
    "        super().__init__()\n",
    "        \n",
    "        self.fc1 = nn.Linear(input_size,hidden_dim)\n",
    "        self.fc2 = nn.Linear(hidden_dim,hidden_dim*2)\n",
    "        self.fc3 = nn.Linear(hidden_dim*2,hidden_dim*4)\n",
    "        self.fc4 = nn.Linear(hidden_dim*4,output_size)\n",
    "\n",
    "        self.dropout = nn.Dropout(0.4)\n",
    "        self.norm1 = nn.BatchNorm1d(hidden_dim)\n",
    "        self.norm2 = nn.BatchNorm1d(hidden_dim*2)\n",
    "        self.norm3 = nn.BatchNorm1d(hidden_dim*4)\n",
    "\n",
    "    def forward(self,x):\n",
    "\n",
    "        x = F.leaky_relu(self.norm1(self.fc1(x)), 0.2)\n",
    "        x = self.dropout(x)\n",
    "        x = F.leaky_relu(self.norm2(self.fc2(x)), 0.2)\n",
    "        x = self.dropout(x)\n",
    "        x = F.leaky_relu(self.norm3(self.fc3(x)), 0.2)\n",
    "        x = self.dropout(x)\n",
    "        out = torch.tanh(self.fc4(x))\n",
    "        return out"
   ]
  },
  {
   "cell_type": "code",
   "execution_count": 24,
   "id": "387bb7ec",
   "metadata": {},
   "outputs": [],
   "source": [
    "# Defining the Hyperparameters.\n",
    "\n",
    "#Discriminator Hyperparameters\n",
    "d_input_size = 784\n",
    "d_output_size = 1\n",
    "d_hidden_dim = 32\n",
    "\n",
    "#Generator Hyperparameters\n",
    "g_input = 100\n",
    "g_output = 784\n",
    "g_hidden_dim  = 64\n"
   ]
  },
  {
   "cell_type": "code",
   "execution_count": 25,
   "id": "246c3fab",
   "metadata": {},
   "outputs": [
    {
     "name": "stdout",
     "output_type": "stream",
     "text": [
      "Discriminator(\n",
      "  (fc1): Linear(in_features=784, out_features=128, bias=True)\n",
      "  (fc2): Linear(in_features=128, out_features=64, bias=True)\n",
      "  (fc3): Linear(in_features=64, out_features=32, bias=True)\n",
      "  (fc4): Linear(in_features=32, out_features=1, bias=True)\n",
      "  (dropout): Dropout(p=0.3, inplace=False)\n",
      "  (norm1): BatchNorm1d(128, eps=1e-05, momentum=0.1, affine=True, track_running_stats=True)\n",
      "  (norm2): BatchNorm1d(64, eps=1e-05, momentum=0.1, affine=True, track_running_stats=True)\n",
      "  (norm3): BatchNorm1d(32, eps=1e-05, momentum=0.1, affine=True, track_running_stats=True)\n",
      ")\n",
      "\n",
      "Generator(\n",
      "  (fc1): Linear(in_features=100, out_features=64, bias=True)\n",
      "  (fc2): Linear(in_features=64, out_features=128, bias=True)\n",
      "  (fc3): Linear(in_features=128, out_features=256, bias=True)\n",
      "  (fc4): Linear(in_features=256, out_features=784, bias=True)\n",
      "  (dropout): Dropout(p=0.4, inplace=False)\n",
      "  (norm1): BatchNorm1d(64, eps=1e-05, momentum=0.1, affine=True, track_running_stats=True)\n",
      "  (norm2): BatchNorm1d(128, eps=1e-05, momentum=0.1, affine=True, track_running_stats=True)\n",
      "  (norm3): BatchNorm1d(256, eps=1e-05, momentum=0.1, affine=True, track_running_stats=True)\n",
      ")\n"
     ]
    }
   ],
   "source": [
    "disc = Discriminator(d_input_size,d_hidden_dim,d_output_size).cuda()\n",
    "gen = Generator(g_input,g_hidden_dim,g_output).cuda()\n",
    "\n",
    "print(disc)\n",
    "print()\n",
    "print(gen)"
   ]
  },
  {
   "cell_type": "code",
   "execution_count": 34,
   "id": "02296896",
   "metadata": {},
   "outputs": [],
   "source": [
    "#Loss Functions\n",
    "def real_loss(d_out,smooth = False):\n",
    "    size = d_out.size(0)\n",
    "\n",
    "    if smooth:\n",
    "        labels = torch.ones(size)*0.9\n",
    "    else:\n",
    "        labels = torch.ones(size) \n",
    "\n",
    "    labels=labels.cuda()\n",
    "    criterion = nn.MSELoss()\n",
    "    loss = criterion(d_out.squeeze(),labels)\n",
    "    return loss\n",
    "\n",
    "def fake_loss (d_out):\n",
    "    labels = torch.zeros(d_out.shape[0])\n",
    "    criterion = nn.MSELoss()\n",
    "    labels=labels.cuda()\n",
    "    loss = criterion(d_out.squeeze(),labels)\n",
    "\n",
    "    return loss\n"
   ]
  },
  {
   "cell_type": "code",
   "execution_count": 35,
   "id": "44ef3f88",
   "metadata": {},
   "outputs": [],
   "source": [
    "#Defining the Optimizers\n",
    "lr = 0.002\n",
    "d_optimizer = optim.Adam(disc.parameters(),lr)\n",
    "g_optimizer = optim.Adam(gen.parameters(), lr)"
   ]
  },
  {
   "cell_type": "markdown",
   "id": "4b79e98f",
   "metadata": {},
   "source": [
    "## Training the 2 models.\n",
    "\n",
    "1. First, we need to train the Discriminator model, To do that, \n",
    "    * We first need to train the discriminator on the real images\n",
    "    * Generate Fake images\n",
    "    * Train the model on fake images with labels = 0\n",
    "    * Add the real and fake losses\n",
    "    * Perform Back propagation\n",
    "<br>\n",
    "\n",
    "2. With the trained model in our hand, it is now time to train the Generator model.\n",
    "    *  We generate the fake images\n",
    "    * Compute the discriminator loss with the labels = 1\n",
    "    * back_propagation\n"
   ]
  },
  {
   "cell_type": "code",
   "execution_count": 36,
   "id": "3438e54a",
   "metadata": {},
   "outputs": [
    {
     "name": "stdout",
     "output_type": "stream",
     "text": [
      "Epoch 1/40 | Discriminator loss:2.1895| generator_loss:2.2922\n",
      "Epoch 1/40 | Discriminator loss:2.0031| generator_loss:2.0155\n",
      "Epoch 2/40 | Discriminator loss:1.9207| generator_loss:1.5995\n",
      "Epoch 2/40 | Discriminator loss:2.0911| generator_loss:1.6448\n",
      "Epoch 3/40 | Discriminator loss:2.1267| generator_loss:1.8177\n",
      "Epoch 3/40 | Discriminator loss:1.9110| generator_loss:1.5632\n",
      "Epoch 4/40 | Discriminator loss:1.8815| generator_loss:1.5253\n",
      "Epoch 4/40 | Discriminator loss:1.8931| generator_loss:1.5199\n",
      "Epoch 5/40 | Discriminator loss:1.9611| generator_loss:1.4946\n",
      "Epoch 5/40 | Discriminator loss:1.9300| generator_loss:1.4092\n",
      "Epoch 6/40 | Discriminator loss:1.9302| generator_loss:1.4983\n",
      "Epoch 6/40 | Discriminator loss:2.0012| generator_loss:1.2618\n",
      "Epoch 7/40 | Discriminator loss:1.7794| generator_loss:1.4604\n",
      "Epoch 7/40 | Discriminator loss:1.7979| generator_loss:1.3748\n",
      "Epoch 8/40 | Discriminator loss:1.8165| generator_loss:1.3392\n",
      "Epoch 8/40 | Discriminator loss:1.8228| generator_loss:1.3647\n",
      "Epoch 9/40 | Discriminator loss:1.7553| generator_loss:1.2803\n",
      "Epoch 9/40 | Discriminator loss:1.8999| generator_loss:1.5246\n",
      "Epoch 10/40 | Discriminator loss:1.9089| generator_loss:1.3673\n",
      "Epoch 10/40 | Discriminator loss:1.8907| generator_loss:1.4330\n",
      "Epoch 11/40 | Discriminator loss:1.7704| generator_loss:1.3223\n",
      "Epoch 11/40 | Discriminator loss:1.9474| generator_loss:1.3490\n",
      "Epoch 12/40 | Discriminator loss:1.8013| generator_loss:1.2633\n",
      "Epoch 12/40 | Discriminator loss:1.8027| generator_loss:1.3338\n",
      "Epoch 13/40 | Discriminator loss:1.8356| generator_loss:1.3205\n",
      "Epoch 13/40 | Discriminator loss:1.7427| generator_loss:1.5061\n",
      "Epoch 14/40 | Discriminator loss:1.8577| generator_loss:1.3335\n"
     ]
    },
    {
     "ename": "KeyboardInterrupt",
     "evalue": "",
     "output_type": "error",
     "traceback": [
      "\u001b[1;31m---------------------------------------------------------------------------\u001b[0m",
      "\u001b[1;31mKeyboardInterrupt\u001b[0m                         Traceback (most recent call last)",
      "\u001b[1;32mw:\\The Actual Work\\Repo\\GitHub Repositories\\Generative-Adversarial-Networks-using-PyTorch\\MNIST GANs\\MNIST_GAN.ipynb Cell 12'\u001b[0m in \u001b[0;36m<cell line: 15>\u001b[1;34m()\u001b[0m\n\u001b[0;32m     <a href='vscode-notebook-cell:/w%3A/The%20Actual%20Work/Repo/GitHub%20Repositories/Generative-Adversarial-Networks-using-PyTorch/MNIST%20GANs/MNIST_GAN.ipynb#ch0000011?line=37'>38</a>\u001b[0m f_loss \u001b[39m=\u001b[39m fake_loss(d_fake\u001b[39m.\u001b[39msqueeze())\n\u001b[0;32m     <a href='vscode-notebook-cell:/w%3A/The%20Actual%20Work/Repo/GitHub%20Repositories/Generative-Adversarial-Networks-using-PyTorch/MNIST%20GANs/MNIST_GAN.ipynb#ch0000011?line=39'>40</a>\u001b[0m d_loss \u001b[39m=\u001b[39m r_loss\u001b[39m+\u001b[39mf_loss\n\u001b[1;32m---> <a href='vscode-notebook-cell:/w%3A/The%20Actual%20Work/Repo/GitHub%20Repositories/Generative-Adversarial-Networks-using-PyTorch/MNIST%20GANs/MNIST_GAN.ipynb#ch0000011?line=40'>41</a>\u001b[0m d_loss\u001b[39m.\u001b[39;49mbackward()\n\u001b[0;32m     <a href='vscode-notebook-cell:/w%3A/The%20Actual%20Work/Repo/GitHub%20Repositories/Generative-Adversarial-Networks-using-PyTorch/MNIST%20GANs/MNIST_GAN.ipynb#ch0000011?line=41'>42</a>\u001b[0m d_optimizer\u001b[39m.\u001b[39mstep\n\u001b[0;32m     <a href='vscode-notebook-cell:/w%3A/The%20Actual%20Work/Repo/GitHub%20Repositories/Generative-Adversarial-Networks-using-PyTorch/MNIST%20GANs/MNIST_GAN.ipynb#ch0000011?line=43'>44</a>\u001b[0m d_optimizer\u001b[39m.\u001b[39mzero_grad()\n",
      "File \u001b[1;32m~\\anaconda3\\envs\\data\\lib\\site-packages\\torch\\_tensor.py:363\u001b[0m, in \u001b[0;36mTensor.backward\u001b[1;34m(self, gradient, retain_graph, create_graph, inputs)\u001b[0m\n\u001b[0;32m    <a href='file:///c%3A/Users/akhil/anaconda3/envs/data/lib/site-packages/torch/_tensor.py?line=353'>354</a>\u001b[0m \u001b[39mif\u001b[39;00m has_torch_function_unary(\u001b[39mself\u001b[39m):\n\u001b[0;32m    <a href='file:///c%3A/Users/akhil/anaconda3/envs/data/lib/site-packages/torch/_tensor.py?line=354'>355</a>\u001b[0m     \u001b[39mreturn\u001b[39;00m handle_torch_function(\n\u001b[0;32m    <a href='file:///c%3A/Users/akhil/anaconda3/envs/data/lib/site-packages/torch/_tensor.py?line=355'>356</a>\u001b[0m         Tensor\u001b[39m.\u001b[39mbackward,\n\u001b[0;32m    <a href='file:///c%3A/Users/akhil/anaconda3/envs/data/lib/site-packages/torch/_tensor.py?line=356'>357</a>\u001b[0m         (\u001b[39mself\u001b[39m,),\n\u001b[1;32m   (...)\u001b[0m\n\u001b[0;32m    <a href='file:///c%3A/Users/akhil/anaconda3/envs/data/lib/site-packages/torch/_tensor.py?line=360'>361</a>\u001b[0m         create_graph\u001b[39m=\u001b[39mcreate_graph,\n\u001b[0;32m    <a href='file:///c%3A/Users/akhil/anaconda3/envs/data/lib/site-packages/torch/_tensor.py?line=361'>362</a>\u001b[0m         inputs\u001b[39m=\u001b[39minputs)\n\u001b[1;32m--> <a href='file:///c%3A/Users/akhil/anaconda3/envs/data/lib/site-packages/torch/_tensor.py?line=362'>363</a>\u001b[0m torch\u001b[39m.\u001b[39;49mautograd\u001b[39m.\u001b[39;49mbackward(\u001b[39mself\u001b[39;49m, gradient, retain_graph, create_graph, inputs\u001b[39m=\u001b[39;49minputs)\n",
      "File \u001b[1;32m~\\anaconda3\\envs\\data\\lib\\site-packages\\torch\\autograd\\__init__.py:173\u001b[0m, in \u001b[0;36mbackward\u001b[1;34m(tensors, grad_tensors, retain_graph, create_graph, grad_variables, inputs)\u001b[0m\n\u001b[0;32m    <a href='file:///c%3A/Users/akhil/anaconda3/envs/data/lib/site-packages/torch/autograd/__init__.py?line=167'>168</a>\u001b[0m     retain_graph \u001b[39m=\u001b[39m create_graph\n\u001b[0;32m    <a href='file:///c%3A/Users/akhil/anaconda3/envs/data/lib/site-packages/torch/autograd/__init__.py?line=169'>170</a>\u001b[0m \u001b[39m# The reason we repeat same the comment below is that\u001b[39;00m\n\u001b[0;32m    <a href='file:///c%3A/Users/akhil/anaconda3/envs/data/lib/site-packages/torch/autograd/__init__.py?line=170'>171</a>\u001b[0m \u001b[39m# some Python versions print out the first line of a multi-line function\u001b[39;00m\n\u001b[0;32m    <a href='file:///c%3A/Users/akhil/anaconda3/envs/data/lib/site-packages/torch/autograd/__init__.py?line=171'>172</a>\u001b[0m \u001b[39m# calls in the traceback and some print out the last line\u001b[39;00m\n\u001b[1;32m--> <a href='file:///c%3A/Users/akhil/anaconda3/envs/data/lib/site-packages/torch/autograd/__init__.py?line=172'>173</a>\u001b[0m Variable\u001b[39m.\u001b[39;49m_execution_engine\u001b[39m.\u001b[39;49mrun_backward(  \u001b[39m# Calls into the C++ engine to run the backward pass\u001b[39;49;00m\n\u001b[0;32m    <a href='file:///c%3A/Users/akhil/anaconda3/envs/data/lib/site-packages/torch/autograd/__init__.py?line=173'>174</a>\u001b[0m     tensors, grad_tensors_, retain_graph, create_graph, inputs,\n\u001b[0;32m    <a href='file:///c%3A/Users/akhil/anaconda3/envs/data/lib/site-packages/torch/autograd/__init__.py?line=174'>175</a>\u001b[0m     allow_unreachable\u001b[39m=\u001b[39;49m\u001b[39mTrue\u001b[39;49;00m, accumulate_grad\u001b[39m=\u001b[39;49m\u001b[39mTrue\u001b[39;49;00m)\n",
      "\u001b[1;31mKeyboardInterrupt\u001b[0m: "
     ]
    }
   ],
   "source": [
    "epochs = 40\n",
    "print_every = 500\n",
    "\n",
    "samples=[]\n",
    "losses=[]\n",
    "\n",
    "sample_size = 16\n",
    "fixed_z = np.random.uniform(-1,1,size=(batch_size, g_input))\n",
    "fixed_z = torch.from_numpy(fixed_z).float()\n",
    "fixed_z = fixed_z.cuda()\n",
    "\n",
    "disc.train()\n",
    "gen.train()\n",
    "\n",
    "for epoch in range(epochs):\n",
    "    for batch_i, (real_images,_) in enumerate(train_loader):\n",
    "        batch_size = real_images.size(0)\n",
    "\n",
    "        #rescaling the images:\n",
    "        real_images = real_images*2 -1\n",
    "        \n",
    "        #moving real_images to GPU\n",
    "        real_images=real_images.cuda()\n",
    "\n",
    "        #________________Training the Discriminator________________________________\n",
    "\n",
    "        z = np.random.uniform(-1,1,size=(batch_size, g_input))\n",
    "        z = torch.from_numpy(z).float()\n",
    "        z = z.cuda()\n",
    "        fake_images = gen(z)\n",
    "        fake_images = fake_images.cuda()\n",
    "    \n",
    "    # Generating the Real and Fake losses\n",
    "        d_real = disc(real_images)\n",
    "        d_fake = disc(fake_images)\n",
    "\n",
    "        r_loss = real_loss(d_real.squeeze(),smooth=True)\n",
    "        f_loss = fake_loss(d_fake.squeeze())\n",
    "\n",
    "        d_loss = r_loss+f_loss\n",
    "        d_loss.backward()\n",
    "        d_optimizer.step\n",
    "\n",
    "        d_optimizer.zero_grad()\n",
    "\n",
    "        #_______________Training the Generator_________________\n",
    "\n",
    "        z = np.random.uniform(-1,1,size=(batch_size, g_input))\n",
    "        z = torch.from_numpy(z).float()\n",
    "        z = z.cuda()\n",
    "        fake_images = gen(z)\n",
    "        fake_images = fake_images.cuda()\n",
    "\n",
    "        d_fake = disc(fake_images.detach())\n",
    "        g_loss = real_loss(d_fake)\n",
    "\n",
    "        g_loss.backward()\n",
    "        g_optimizer.step()\n",
    "        g_optimizer.zero_grad()\n",
    "\n",
    "        #_______________Printing the stats_______________\n",
    "        if batch_i %print_every ==0:\n",
    "            losses.append((d_loss.item(), g_loss.item()))\n",
    "            print(f'Epoch {epoch+1}/{epochs} | Discriminator loss:{d_loss.item():.4f}| generator_loss:{g_loss.item():.4f}')\n",
    "    \n",
    "\n",
    "    samples_z = gen(fixed_z)\n",
    "    samples.append(samples_z)\n"
   ]
  },
  {
   "cell_type": "code",
   "execution_count": 37,
   "id": "f2f52257",
   "metadata": {},
   "outputs": [],
   "source": [
    "disc_losses = [x[0] for x in losses]\n",
    "gen_losses = [x[1] for x in losses]"
   ]
  },
  {
   "cell_type": "code",
   "execution_count": 38,
   "id": "e054e05a",
   "metadata": {},
   "outputs": [
    {
     "data": {
      "image/png": "[encoded data removed]",
      "text/plain": [
       "<Figure size 864x432 with 1 Axes>"
      ]
     },
     "metadata": {
      "needs_background": "light"
     },
     "output_type": "display_data"
    }
   ],
   "source": [
    "fig,ax = plt.subplots()\n",
    "ax.plot(disc_losses,label='Discriminator Losses')\n",
    "ax.plot(gen_losses,label='Generator Losses')\n",
    "ax.set_ybound(lower=0.0, upper = 5.0)\n",
    "fig.set_size_inches(12,6)\n",
    "plt.show()\n"
   ]
  },
  {
   "cell_type": "code",
   "execution_count": 39,
   "id": "3783c615",
   "metadata": {},
   "outputs": [],
   "source": [
    "epochs_observed = list(range(epochs))[::4]\n",
    "epochs_observed.append(39)"
   ]
  },
  {
   "cell_type": "markdown",
   "id": "b67bf996",
   "metadata": {},
   "source": [
    "We have 64 digits in each sample. We are going to observe the first 5 in each epoch."
   ]
  },
  {
   "cell_type": "code",
   "execution_count": 40,
   "id": "ad16064e",
   "metadata": {},
   "outputs": [],
   "source": [
    "def view_samples(epoch,samples):\n",
    "    fig,axes = plt.subplots(figsize=(14,14), nrows=1, ncols=5, sharey=True)\n",
    "    for ax,img in zip(axes.flatten(),samples[epoch]):\n",
    "        img = img.cpu()\n",
    "        img = img.detach().numpy()\n",
    "        ax.xaxis.set_visible(False)\n",
    "        ax.yaxis.set_visible(False)\n",
    "        im = ax.imshow(img.reshape(28,28), cmap='Greys') \n"
   ]
  },
  {
   "cell_type": "code",
   "execution_count": 41,
   "id": "37d4f31e",
   "metadata": {},
   "outputs": [
    {
     "data": {
      "image/png": "[encoded data removed]",
      "text/plain": [
       "<Figure size 1008x1008 with 5 Axes>"
      ]
     },
     "metadata": {
      "needs_background": "light"
     },
     "output_type": "display_data"
    }
   ],
   "source": [
    "# for epoch in epochs_observed:\n",
    "#     view_samples(epoch,samples)\n",
    "view_samples(8,samples)"
   ]
  },
  {
   "cell_type": "code",
   "execution_count": null,
   "id": "e09ff0d5",
   "metadata": {},
   "outputs": [],
   "source": []
  }
 ],
 "metadata": {
  "kernelspec": {
   "display_name": "Python 3 (ipykernel)",
   "language": "python",
   "name": "python3"
  },
  "language_info": {
   "codemirror_mode": {
    "name": "ipython",
    "version": 3
   },
   "file_extension": ".py",
   "mimetype": "text/x-python",
   "name": "python",
   "nbconvert_exporter": "python",
   "pygments_lexer": "ipython3",
   "version": "3.10.0"
  }
 },
 "nbformat": 4,
 "nbformat_minor": 5
}
